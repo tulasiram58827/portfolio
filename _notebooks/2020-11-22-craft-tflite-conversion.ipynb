{
 "cells": [
  {
   "cell_type": "markdown",
   "metadata": {},
   "source": [
    "# \"CRAFT TFLITE CONVERSION\"\n",
    "> \"Learn how to convert PyTorch pretrained model to TFLite Format\"\n",
    "\n",
    "- toc: true\n",
    "- branch: master\n",
    "- badges: false\n",
    "- comments: true\n",
    "- categories: [tflite, optimization, onnx, craft, text-detector]\n",
    "- image: images/profile-pic.jpg\n",
    "- author: Tulasi Ram\n",
    "- permalink : /craft-in-tflite"
   ]
  },
  {
   "cell_type": "markdown",
   "metadata": {},
   "source": [
    "This is an end-to-end tutorial on how to convert a PyTorch model to TensorFlow Lite (TFLite) using ONNX. Specifically, we will be using the CRAFT model (proposed in this paper) which is essentially a text detector. Following is the overview of what’s covered in the tutorial - "
   ]
  },
  {
   "cell_type": "markdown",
   "metadata": {},
   "source": [
    "- Brief Overview of Craft Model\n",
    "- TFLite Conversion Flow\n",
    "   - PyTorch Model to ONNX Model\n",
    "   - ONNX Model to TensorFlow SavedModel\n",
    "   - TensorFlow SavedModel to TFLite Model\n",
    "       - Dynamic Range Quantization\n",
    "       - Float16 Quantization\n",
    "- Running Inference with TFLite Model\n",
    "- Conclusion"
   ]
  },
  {
   "cell_type": "markdown",
   "metadata": {},
   "source": [
    "Please open the notebooks included in this [repository](https://github.com/tulasiram58827/craft_tflite) and follow along with this blog post. You may also directly download already converted TFLite Models from this repository."
   ]
  },
  {
   "cell_type": "code",
   "execution_count": null,
   "metadata": {},
   "outputs": [],
   "source": []
  }
 ],
 "metadata": {
  "kernelspec": {
   "display_name": "Python 3",
   "language": "python",
   "name": "python3"
  },
  "language_info": {
   "codemirror_mode": {
    "name": "ipython",
    "version": 3
   },
   "file_extension": ".py",
   "mimetype": "text/x-python",
   "name": "python",
   "nbconvert_exporter": "python",
   "pygments_lexer": "ipython3",
   "version": "3.8.3"
  }
 },
 "nbformat": 4,
 "nbformat_minor": 4
}
